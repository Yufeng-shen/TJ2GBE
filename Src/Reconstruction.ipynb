{
 "cells": [
  {
   "cell_type": "code",
   "execution_count": null,
   "metadata": {},
   "outputs": [],
   "source": [
    "import numpy as np\n",
    "import matplotlib.pyplot as plt\n",
    "from scipy.sparse import csr_matrix\n",
    "import myLOBPCG_new\n",
    "\n",
    "TJfile='../TJdata/triples_30000.dat' \n",
    "prefix='../build/' # directory contains rowA.binary, colA.binary, valA.binary; and will save outputs\n",
    "numTJ=30000 # number of triple junctions\n",
    "lamb=10 # hyperparameter for the strength of the regularization\n",
    "sym='Cubic' # Cubic or Hex, it changes the gbdat file header \n",
    "fn= prefix+'Hex.gbdat' # the name of output gbdat file"
   ]
  },
  {
   "cell_type": "code",
   "execution_count": null,
   "metadata": {},
   "outputs": [],
   "source": [
    "def read_dat(datFile, numTJ):\n",
    "    \"\"\"\n",
    "    Input: triples.dat, wrote from the fortran program Torq_trn\n",
    "                size=[numTJ*8,]\n",
    "                In each group, the data is [TJ directon, EA1, GB1, EA2, GB2, EA3, GB3]\n",
    "    Output: TJs, direction of the triple junctions\n",
    "                size = [numTJ, 3]\n",
    "            EAs, the EA angles of the 3 grains at a TJ\n",
    "                size = [numTJ, 3, 3]\n",
    "            norms, normal direction of the 3 GB at a TJ\n",
    "                size = [numTJ, 3, 3]\n",
    "    \"\"\"\n",
    "    with open(datFile) as f:\n",
    "        tmp = [line.split() for line in f if line.strip()]\n",
    "    TJs = np.zeros((numTJ, 3))\n",
    "    EAs = np.zeros((numTJ, 3, 3))\n",
    "    norms = np.zeros((numTJ, 3, 3))\n",
    "    for i in range(numTJ):\n",
    "\n",
    "        TJs[i,:] = np.array(tmp[i*8 + 1]).astype(float)\n",
    "        EAs[i,0, :] = np.array(tmp[i*8 + 2]).astype(float)\n",
    "        norms[i,0, :] = np.array(tmp[i*8 + 3]).astype(float)\n",
    "        EAs[i, 1, :] = np.array(tmp[i*8 + 4]).astype(float)\n",
    "        norms[i, 1, :] = np.array(tmp[i*8 + 5]).astype(float)\n",
    "        EAs[i, 2, :] = np.array(tmp[i*8 + 6]).astype(float)\n",
    "        norms[i, 2, :] = np.array(tmp[i*8 + 7]).astype(float)\n",
    "\n",
    "    return (TJs, EAs, norms)\n",
    "\n",
    "def EulerZXZ2Mat(e):\n",
    "    \"\"\"\n",
    "    Active Euler Angle (radian)  in ZXZ convention to active rotation matrix, which means newV=M*oldV\n",
    "    \"\"\"\n",
    "    x=e[0]\n",
    "    y=e[1]\n",
    "    z=e[2]\n",
    "    s1=np.sin(x)\n",
    "    s2=np.sin(y)\n",
    "    s3=np.sin(z)\n",
    "    c1=np.cos(x)\n",
    "    c2=np.cos(y)\n",
    "    c3=np.cos(z)\n",
    "    m=np.array([[c1*c3-c2*s1*s3,-c1*s3-c3*c2*s1,s1*s2],\n",
    "        [s1*c3+c2*c1*s3,c1*c2*c3-s1*s3,-c1*s2],\n",
    "        [s3*s2,s2*c3,c2]])\n",
    "    return m\n",
    "\n",
    "def EAtoG(EA):\n",
    "    \"\"\"\n",
    "    Input: a set of Euler Angle\n",
    "                size=[3,]\n",
    "    Output: the corresponding orientation matrix g\n",
    "                size = [3, 3]\n",
    "    \"\"\"\n",
    "    g = np.zeros((3,3))\n",
    "    EA = np.radians(EA)\n",
    "    g=EulerZXZ2Mat(EA).T\n",
    "    return g"
   ]
  },
  {
   "cell_type": "code",
   "execution_count": null,
   "metadata": {},
   "outputs": [],
   "source": [
    "(TJs, EAs, norms) = read_dat(TJfile, numTJ)\n",
    "\n",
    "Norm=np.empty((numTJ*3,3))\n",
    "for i in range(numTJ):\n",
    "    Norm[3*i]=EAtoG(EAs[i,1]).dot(norms[i,0])\n",
    "    Norm[3*i+1]=EAtoG(EAs[i,2]).dot(norms[i,1])\n",
    "    Norm[3*i+2]=EAtoG(EAs[i,0]).dot(norms[i,2])\n",
    "for j in range(len(Norm)):\n",
    "    Norm[j]=Norm[j]/(np.linalg.norm(Norm[j]))"
   ]
  },
  {
   "cell_type": "code",
   "execution_count": null,
   "metadata": {},
   "outputs": [],
   "source": [
    "rowB=[]\n",
    "colB=[]\n",
    "valB=[]\n",
    "\n",
    "for i in range(numTJ):\n",
    "    t=TJs[i]\n",
    "    xls=np.array([[0,-t[2],t[1]],[t[2],0,-t[0]],[-t[1],t[0],0]])\n",
    "    M=np.hstack([EAtoG(EAs[i,1]).T,EAtoG(EAs[i,2]).T,EAtoG(EAs[i,0]).T])\n",
    "    M=xls.dot(M)\n",
    "    rowB.extend([i*3]*9)\n",
    "    rowB.extend([i*3+1]*9)\n",
    "    rowB.extend([i*3+2]*9)\n",
    "    colB.extend(list(range(i*9,i*9+9))*3)\n",
    "    valB.extend(M.ravel())\n",
    "\n",
    "B=csr_matrix((valB,(rowB,colB)),shape=(rowB[-1]+1,numTJ*3*3))\n",
    "rowB=None\n",
    "colB=None\n",
    "valB=None"
   ]
  },
  {
   "cell_type": "code",
   "execution_count": null,
   "metadata": {},
   "outputs": [],
   "source": [
    "\n",
    "rowA=np.fromfile(prefix+'rowA.binary',dtype=np.uint32)\n",
    "colA=np.fromfile(prefix+'colA.binary',dtype=np.uint32)\n",
    "valA=np.fromfile(prefix+'valA.binary',dtype=np.float32)\n",
    "A=csr_matrix((valA,(rowA,colA)),shape=(rowA[-1]+1,numTJ*3*3))\n",
    "rowA=None\n",
    "colA=None\n",
    "valA=None"
   ]
  },
  {
   "cell_type": "code",
   "execution_count": null,
   "metadata": {},
   "outputs": [],
   "source": [
    "X0=Norm.ravel().reshape(-1,1)\n",
    "res2=myLOBPCG_new.lobpcg(A,lamb*B,X0,verbosityLevel=0,largest=False,maxiter=500,retLambdaHistory=True)\n",
    "print(len(res2[2]))\n",
    "print(res2[0])"
   ]
  },
  {
   "cell_type": "code",
   "execution_count": null,
   "metadata": {},
   "outputs": [],
   "source": [
    "resxi=np.linalg.norm(Norm.ravel())/np.linalg.norm(res2[1])*res2[1].reshape((-1,3))\n",
    "resE=np.sum(resxi*Norm,axis=1)\n",
    "\n",
    "if np.sum(resE<0)/float(len(resE))>0.5:\n",
    "    resxi=-resxi\n",
    "    resE=-resE\n",
    "    \n",
    "print(np.sum(resE<0)/float(len(resE)))"
   ]
  },
  {
   "cell_type": "code",
   "execution_count": null,
   "metadata": {},
   "outputs": [],
   "source": [
    "plt.hist(resE,bins=np.arange(0.25,1.75,0.05))\n",
    "plt.show()"
   ]
  },
  {
   "cell_type": "code",
   "execution_count": null,
   "metadata": {},
   "outputs": [],
   "source": [
    "tmp=norms\n",
    "L_EA = np.zeros((3*numTJ, 3))\n",
    "R_EA = np.zeros((3*numTJ, 3))\n",
    "n  = np.zeros((3*numTJ, 3))\n",
    "for i in range(numTJ):\n",
    "        L_EA[3*i,:] = EAs[i,1,:]\n",
    "        R_EA[3*i,:] = EAs[i,2,:]\n",
    "        n[3*i,:] = tmp[i,0,:]\n",
    "        L_EA[3*i + 1,:] = EAs[i,2,:]\n",
    "        R_EA[3*i + 1,:]  = EAs[i,0,:]\n",
    "        n[3*i + 1,:] =tmp[i,1,:]\n",
    "        L_EA[3*i + 2,:] = EAs[i,0,:]\n",
    "        R_EA[3*i + 2,:] = EAs[i,1,:]\n",
    "        n[3*i + 2,:] = tmp[i,2,:]   \n",
    "\n",
    "PHI=np.degrees(np.arccos(n[:,2])).reshape((n.shape[0],1))\n",
    "THETA=np.degrees(np.arctan2(n[:,1],n[:,0])).reshape((n.shape[0],1))\n",
    "THETA[THETA<0] += 360\n",
    "\n",
    "doomy = np.ones((len(PHI),1))*1200\n",
    "resE2t = resE.reshape((len(PHI),1))\n",
    "\n",
    "toPrint = np.hstack((L_EA, R_EA, PHI, THETA, doomy, resE2t))\n",
    "with open(fn,'w') as text_file:\n",
    "    if sym=='Hex':\n",
    "        text_file.write(\n",
    "    \"\"\"# This file was created by GBToolbox 1.1.20151207\n",
    "# It contains boundary parameters imported from DREAM.3D output files\n",
    "EXP\n",
    "6/mmm\n",
    "L_PHI1 L_PHI L_PHI2 R_PHI1 R_PHI R_PHI2 ZENITH AZIMUTH CORRELAT AREA\\n\"\"\")\n",
    "    else if sym=='Cubic':\n",
    "        text_file.write(\n",
    "    \"\"\"# This file was created by GBToolbox 1.1.20151207\n",
    "# It contains boundary parameters imported from DREAM.3D output files\n",
    "EXP\n",
    "m-3m\n",
    "L_PHI1 L_PHI L_PHI2 R_PHI1 R_PHI R_PHI2 ZENITH AZIMUTH CORRELAT AREA\\n\"\"\")\n",
    "    else:\n",
    "        print(\"sym must be Cubic or Hex\")\n",
    "np.savetxt(file(fn,'a'), toPrint, delimiter=',', fmt='%3.4f '*8+'%4d '+'%3.7f')"
   ]
  },
  {
   "cell_type": "code",
   "execution_count": null,
   "metadata": {},
   "outputs": [],
   "source": [
    "np.save(prefix+'resE.npy',resE)"
   ]
  }
 ],
 "metadata": {
  "kernelspec": {
   "display_name": "Python 3",
   "language": "python",
   "name": "python3"
  },
  "language_info": {
   "codemirror_mode": {
    "name": "ipython",
    "version": 3
   },
   "file_extension": ".py",
   "mimetype": "text/x-python",
   "name": "python",
   "nbconvert_exporter": "python",
   "pygments_lexer": "ipython3",
   "version": "3.7.0"
  }
 },
 "nbformat": 4,
 "nbformat_minor": 2
}
